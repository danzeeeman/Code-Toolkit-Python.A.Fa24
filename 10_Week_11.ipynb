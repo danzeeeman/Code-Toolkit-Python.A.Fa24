{
 "cells": [
  {
   "cell_type": "code",
   "execution_count": 1,
   "metadata": {},
   "outputs": [
    {
     "name": "stdout",
     "output_type": "stream",
     "text": [
      "Hello, world\n",
      "Hello, world\n",
      "Hello, world\n",
      "Hello, world\n",
      "Hello, world\n"
     ]
    }
   ],
   "source": [
    "i = 0\n",
    "while i < 5:\n",
    "    print(\"Hello, world\")\n",
    "    i = i + 1"
   ]
  },
  {
   "cell_type": "code",
   "execution_count": null,
   "metadata": {},
   "outputs": [],
   "source": [
    "r = {\n",
    "    \"name\": \"dantheman\",\n",
    "    \"species\": \"human\",\n",
    "    \"hair color\": \"brown\",\n",
    "    \"favorite thing\": \"computers\"\n",
    "}\n",
    "\n",
    "g = {\n",
    "    \"name\": \"Gritty\",\n",
    "    \"species\": \"monster\",\n",
    "    \"hair color\": \"orange\",\n",
    "    \"favorite thing\": \"hockey\"\n",
    "}\n",
    "\n",
    "l = [r, g]\n",
    "\n",
    "print(l)\n",
    "\n",
    "for i in len(l):\n",
    "    print(l[i])"
   ]
  },
  {
   "cell_type": "code",
   "execution_count": 6,
   "metadata": {},
   "outputs": [
    {
     "name": "stdout",
     "output_type": "stream",
     "text": [
      "Hello, Dan\n",
      "Hello, Dan\n",
      "Hello, Dan\n",
      "Hello, Dan\n",
      "Hello, Dan\n",
      "Hello, Dan\n",
      "Hello, Dan\n",
      "Hello, Dan\n",
      "Hello, Dan\n",
      "Hello, Dan\n"
     ]
    }
   ],
   "source": [
    "s = input(\"Type your name: \")\n",
    "loop_count = int(input(\"How many times to repeat\"))\n",
    "i = 0\n",
    "while i < loop_count:\n",
    "    print(\"Hello, \" + s)\n",
    "    i = i + 1"
   ]
  }
 ],
 "metadata": {
  "kernelspec": {
   "display_name": ".venv",
   "language": "python",
   "name": "python3"
  },
  "language_info": {
   "codemirror_mode": {
    "name": "ipython",
    "version": 3
   },
   "file_extension": ".py",
   "mimetype": "text/x-python",
   "name": "python",
   "nbconvert_exporter": "python",
   "pygments_lexer": "ipython3",
   "version": "3.12.3"
  }
 },
 "nbformat": 4,
 "nbformat_minor": 2
}
